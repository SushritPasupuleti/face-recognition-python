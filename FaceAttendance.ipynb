{
  "nbformat": 4,
  "nbformat_minor": 0,
  "metadata": {
    "colab": {
      "name": "FaceAttendance.ipynb",
      "provenance": [],
      "collapsed_sections": []
    },
    "kernelspec": {
      "name": "python3",
      "display_name": "Python 3"
    },
    "accelerator": "GPU"
  },
  "cells": [
    {
      "cell_type": "markdown",
      "metadata": {
        "id": "GXzdOcGqbq2W"
      },
      "source": [
        "Instructions to setup:\r\n",
        "\r\n",
        "0.   Runtime > Change Runtime type > select GPU (must)\r\n",
        "1.   In the left side panel, press the file icon and upload train and test folders (drag and drop or press upload and choose files)\r\n",
        "2.   Runtime > Run all\r\n",
        "3.   Done\r\n",
        "\r\n"
      ]
    },
    {
      "cell_type": "code",
      "metadata": {
        "colab": {
          "base_uri": "https://localhost:8080/"
        },
        "id": "eC-cPJVCH6_t",
        "outputId": "5af87c27-c166-4b75-fb8a-6e357e2b870b"
      },
      "source": [
        "!pip install PIL\r\n",
        "!pip install face_recognition"
      ],
      "execution_count": 1,
      "outputs": [
        {
          "output_type": "stream",
          "text": [
            "\u001b[31mERROR: Could not find a version that satisfies the requirement PIL (from versions: none)\u001b[0m\n",
            "\u001b[31mERROR: No matching distribution found for PIL\u001b[0m\n",
            "Collecting face_recognition\n",
            "  Downloading https://files.pythonhosted.org/packages/1e/95/f6c9330f54ab07bfa032bf3715c12455a381083125d8880c43cbe76bb3d0/face_recognition-1.3.0-py2.py3-none-any.whl\n",
            "Requirement already satisfied: dlib>=19.7 in /usr/local/lib/python3.6/dist-packages (from face_recognition) (19.18.0)\n",
            "Requirement already satisfied: Click>=6.0 in /usr/local/lib/python3.6/dist-packages (from face_recognition) (7.1.2)\n",
            "Collecting face-recognition-models>=0.3.0\n",
            "\u001b[?25l  Downloading https://files.pythonhosted.org/packages/cf/3b/4fd8c534f6c0d1b80ce0973d01331525538045084c73c153ee6df20224cf/face_recognition_models-0.3.0.tar.gz (100.1MB)\n",
            "\u001b[K     |████████████████████████████████| 100.2MB 42kB/s \n",
            "\u001b[?25hRequirement already satisfied: Pillow in /usr/local/lib/python3.6/dist-packages (from face_recognition) (7.0.0)\n",
            "Requirement already satisfied: numpy in /usr/local/lib/python3.6/dist-packages (from face_recognition) (1.19.5)\n",
            "Building wheels for collected packages: face-recognition-models\n",
            "  Building wheel for face-recognition-models (setup.py) ... \u001b[?25l\u001b[?25hdone\n",
            "  Created wheel for face-recognition-models: filename=face_recognition_models-0.3.0-py2.py3-none-any.whl size=100566173 sha256=30a49422e00050454e849983540775adcba6b05721bf925bc3f7a2d652848995\n",
            "  Stored in directory: /root/.cache/pip/wheels/d2/99/18/59c6c8f01e39810415c0e63f5bede7d83dfb0ffc039865465f\n",
            "Successfully built face-recognition-models\n",
            "Installing collected packages: face-recognition-models, face-recognition\n",
            "Successfully installed face-recognition-1.3.0 face-recognition-models-0.3.0\n"
          ],
          "name": "stdout"
        }
      ]
    },
    {
      "cell_type": "code",
      "metadata": {
        "id": "hkyPjfl9IKf4"
      },
      "source": [
        "from PIL import Image, ImageDraw\r\n",
        "from IPython.display import display"
      ],
      "execution_count": 2,
      "outputs": []
    },
    {
      "cell_type": "code",
      "metadata": {
        "colab": {
          "base_uri": "https://localhost:8080/"
        },
        "id": "6EzDQsfsLEVK",
        "outputId": "86136a50-f142-4ba1-94c8-ab5af7e0be51"
      },
      "source": [
        "import face_recognition\r\n",
        "import numpy as np\r\n",
        "from PIL import Image, ImageDraw\r\n",
        "from IPython.display import display\r\n",
        "\r\n",
        "# This is an example of running face recognition on a single image\r\n",
        "# and drawing a box around each person that was identified.\r\n",
        "\r\n",
        "# Load a sample picture and learn how to recognize it.\r\n",
        "cr_image = face_recognition.load_image_file(\"./train/cr7.jpg\")\r\n",
        "cr_face_encoding = face_recognition.face_encodings(cr_image)[0]\r\n",
        "\r\n",
        "# Load a second sample picture and learn how to recognize it.\r\n",
        "messi_image = face_recognition.load_image_file(\"./train/messi.jfif\")\r\n",
        "messi_face_encoding = face_recognition.face_encodings(messi_image)[0]\r\n",
        "\r\n",
        "saurez_image = face_recognition.load_image_file(\"./train/saurez.jpg\")\r\n",
        "saurez_face_encoding = face_recognition.face_encodings(saurez_image)[0]\r\n",
        "\r\n",
        "\r\n",
        "###SAMPLE TEMPLATE\r\n",
        "## saurez_image = face_recognition.load_image_file(\"./train/saurez.jpg\")\r\n",
        "## saurez_face_encoding = face_recognition.face_encodings(saurez_image)[0]\r\n",
        "###TEMPLATE END\r\n",
        "\r\n",
        "# Create arrays of known face encodings and their names\r\n",
        "known_face_encodings = [\r\n",
        "    cr_face_encoding,\r\n",
        "    messi_face_encoding,\r\n",
        "    saurez_face_encoding\r\n",
        "]#Add encoding here for each sample\r\n",
        "known_face_names = [\r\n",
        "    \"Ronaldo\",\r\n",
        "    \"Messi\",\r\n",
        "    \"Saurez\",\r\n",
        "]#Add name here for each sample\r\n",
        "print('Learned encoding for', len(known_face_encodings), 'images.')"
      ],
      "execution_count": 12,
      "outputs": [
        {
          "output_type": "stream",
          "text": [
            "Learned encoding for 3 images.\n"
          ],
          "name": "stdout"
        }
      ]
    },
    {
      "cell_type": "code",
      "metadata": {
        "colab": {
          "base_uri": "https://localhost:8080/"
        },
        "id": "71KEBjviQnOP",
        "outputId": "661167cb-e193-464b-c8ce-01d807bf1cae"
      },
      "source": [
        "unknown_image = face_recognition.load_image_file(\"./test/cr7+messi.jpg\")\r\n",
        "\r\n",
        "# Find all the faces and face encodings in the unknown image\r\n",
        "face_locations = face_recognition.face_locations(unknown_image)\r\n",
        "face_encodings = face_recognition.face_encodings(unknown_image, face_locations)\r\n",
        "\r\n",
        "# Convert the image to a PIL-format image so that we can draw on top of it with the Pillow library\r\n",
        "# See http://pillow.readthedocs.io/ for more about PIL/Pillow\r\n",
        "pil_image = Image.fromarray(unknown_image)\r\n",
        "# Create a Pillow ImageDraw Draw instance to draw with\r\n",
        "draw = ImageDraw.Draw(pil_image)\r\n",
        "\r\n",
        "# Loop through each face found in the unknown image\r\n",
        "\r\n",
        "present = []\r\n",
        "\r\n",
        "for (top, right, bottom, left), face_encoding in zip(face_locations, face_encodings):\r\n",
        "    # See if the face is a match for the known face(s)\r\n",
        "    matches = face_recognition.compare_faces(known_face_encodings, face_encoding)\r\n",
        "\r\n",
        "    name = \"Unknown\"\r\n",
        "\r\n",
        "    # Or instead, use the known face with the smallest distance to the new face\r\n",
        "    face_distances = face_recognition.face_distance(known_face_encodings, face_encoding)\r\n",
        "    best_match_index = np.argmin(face_distances)\r\n",
        "    if matches[best_match_index]:\r\n",
        "        name = known_face_names[best_match_index]\r\n",
        "        print(\"Marked as Present: \", name)\r\n",
        "        present.append(name)\r\n",
        "\r\n",
        "    # Draw a box around the face using the Pillow module\r\n",
        "    draw.rectangle(((left, top), (right, bottom)), outline=(0, 0, 255))\r\n",
        "\r\n",
        "    # Draw a label with a name below the face\r\n",
        "    text_width, text_height = draw.textsize(name)\r\n",
        "    draw.rectangle(((left, bottom - text_height - 10), (right, bottom)), fill=(0, 0, 255), outline=(0, 0, 255))\r\n",
        "    draw.text((left + 6, bottom - text_height - 5), name, fill=(255, 255, 255, 255))\r\n",
        "\r\n",
        "\r\n",
        "# Remove the drawing library from memory as per the Pillow docs\r\n",
        "del draw\r\n",
        "\r\n",
        "# Display the resulting image\r\n",
        "#display(pil_image)\r\n",
        "\r\n",
        "for face in known_face_names:\r\n",
        "  if face not in present:\r\n",
        "    print(face, \" absent\")"
      ],
      "execution_count": 18,
      "outputs": [
        {
          "output_type": "stream",
          "text": [
            "Marked as Present:  Messi\n",
            "Marked as Present:  Ronaldo\n",
            "Saurez  absent\n"
          ],
          "name": "stdout"
        }
      ]
    }
  ]
}